{
 "cells": [
  {
   "cell_type": "markdown",
   "id": "25d7736c-ba17-4aff-b6bb-66eba20fbf4e",
   "metadata": {},
   "source": [
    "# Lab | Error Handling"
   ]
  },
  {
   "cell_type": "markdown",
   "id": "bc99b386-7508-47a0-bcdb-d969deaf6c8b",
   "metadata": {},
   "source": [
    "## Exercise: Error Handling for Managing Customer Orders\n",
    "\n",
    "The implementation of your code for managing customer orders assumes that the user will always enter a valid input. \n",
    "\n",
    "For example, we could modify the `initialize_inventory` function to include error handling.\n",
    "   - If the user enters an invalid quantity (e.g., a negative value or a non-numeric value), display an error message and ask them to re-enter the quantity for that product.\n",
    "   - Use a try-except block to handle the error and continue prompting the user until a valid quantity is entered.\n",
    "\n",
    "```python\n",
    "# Step 1: Define the function for initializing the inventory with error handling\n",
    "def initialize_inventory(products):\n",
    "    inventory = {}\n",
    "    for product in products:\n",
    "        valid_quantity = False\n",
    "        while not valid_quantity:\n",
    "            try:\n",
    "                quantity = int(input(f\"Enter the quantity of {product}s available: \"))\n",
    "                if quantity < 0:\n",
    "                    raise ValueError(\"Invalid quantity! Please enter a non-negative value.\")\n",
    "                valid_quantity = True\n",
    "            except ValueError as error:\n",
    "                print(f\"Error: {error}\")\n",
    "        inventory[product] = quantity\n",
    "    return inventory\n",
    "\n",
    "# Or, in another way:\n",
    "\n",
    "def initialize_inventory(products):\n",
    "    inventory = {}\n",
    "    for product in products:\n",
    "        valid_input = False\n",
    "        while not valid_input:\n",
    "            try:\n",
    "                quantity = int(input(f\"Enter the quantity of {product}s available: \"))\n",
    "                if quantity >= 0:\n",
    "                    inventory[product] = quantity\n",
    "                    valid_input = True\n",
    "                else:\n",
    "                    print(\"Quantity cannot be negative. Please enter a valid quantity.\")\n",
    "            except ValueError:\n",
    "                print(\"Invalid input. Please enter a valid quantity.\")\n",
    "    return inventory\n",
    "```\n",
    "\n",
    "Let's enhance your code by implementing error handling to handle invalid inputs.\n",
    "\n",
    "Follow the steps below to complete the exercise:\n",
    "\n",
    "2. Modify the `calculate_total_price` function to include error handling.\n",
    "   - If the user enters an invalid price (e.g., a negative value or a non-numeric value), display an error message and ask them to re-enter the price for that product.\n",
    "   - Use a try-except block to handle the error and continue prompting the user until a valid price is entered.\n",
    "\n",
    "3. Modify the `get_customer_orders` function to include error handling.\n",
    "   - If the user enters an invalid number of orders (e.g., a negative value or a non-numeric value), display an error message and ask them to re-enter the number of orders.\n",
    "   - If the user enters an invalid product name (e.g., a product name that is not in the inventory), or that doesn't have stock available, display an error message and ask them to re-enter the product name. *Hint: you will need to pass inventory as a parameter*\n",
    "   - Use a try-except block to handle the error and continue prompting the user until a valid product name is entered.\n",
    "\n",
    "4. Test your code by running the program and deliberately entering invalid quantities and product names. Make sure the error handling mechanism works as expected.\n"
   ]
  },
  {
   "cell_type": "code",
   "execution_count": 27,
   "id": "003daa47",
   "metadata": {},
   "outputs": [],
   "source": [
    "def input_customer_order(products):\n",
    "    \"\"\" Validates if the input is in products\"\"\"\n",
    "    order = input('Enter the name of your product').lower()\n",
    "    try:\n",
    "        if order not in products:\n",
    "            raise ValueError(f'Please type a product in {products} ')\n",
    "        else:\n",
    "            return order\n",
    "    except ValueError as error:\n",
    "        print(error)\n",
    "        return input_customer_order(products)  \n",
    "            \n",
    "\n",
    "def get_customer_orders(products):\n",
    "    \"\"\"\n",
    "    Inside the function, implement the code for prompting the user to enter the product names using a loop. \n",
    "    The function should return the customer_orders set.\n",
    "    \"\"\"\n",
    "    \n",
    "    order_amount= input_numeric('How many products do you want?')\n",
    "    order_amount = round(float(order_amount))\n",
    "    customer_orders ={input_customer_order(products) for o in range(order_amount)}\n",
    "    \n",
    "    return customer_orders"
   ]
  },
  {
   "cell_type": "code",
   "execution_count": 28,
   "id": "b8869006",
   "metadata": {},
   "outputs": [
    {
     "name": "stdout",
     "output_type": "stream",
     "text": [
      "How many products do you want?5.6\n",
      "Enter the name of your productmug\n",
      "Enter the name of your productplate\n",
      "Enter the name of your productmug\n",
      "Enter the name of your productmug\n",
      "Enter the name of your productplate\n",
      "Enter the name of your productmug\n"
     ]
    },
    {
     "data": {
      "text/plain": [
       "{'mug', 'plate'}"
      ]
     },
     "execution_count": 28,
     "metadata": {},
     "output_type": "execute_result"
    }
   ],
   "source": [
    "get_customer_orders(['mug','plate'])"
   ]
  },
  {
   "cell_type": "code",
   "execution_count": 6,
   "id": "4ba075c2",
   "metadata": {},
   "outputs": [
    {
     "name": "stdout",
     "output_type": "stream",
     "text": [
      "Input a number6\n"
     ]
    },
    {
     "data": {
      "text/plain": [
       "6"
      ]
     },
     "execution_count": 6,
     "metadata": {},
     "output_type": "execute_result"
    }
   ],
   "source": [
    "def input_numeric(input_string):\n",
    "    variable = input(input_string)\n",
    "    while True:\n",
    "        try:\n",
    "            if float(variable)<0:\n",
    "                variable = input(f'Please make a positive numeric input. {input_string}')\n",
    "            else:\n",
    "                break\n",
    "        except:\n",
    "            variable = input(f'Please make a numeric input. {input_string}') \n",
    "    return variable\n",
    "round(float(input_numeric('Input a number')))"
   ]
  },
  {
   "cell_type": "code",
   "execution_count": 14,
   "id": "0ccd13d2",
   "metadata": {},
   "outputs": [
    {
     "name": "stdout",
     "output_type": "stream",
     "text": [
      "Number of mug available: -4\n",
      "Please make a positive numeric input. Number of mug available: 5\n",
      "Product mug has 5 in stock\n",
      "Number of plate available: -6\n",
      "Please make a positive numeric input. Number of plate available: 6\n",
      "Product plate has 6 in stock\n"
     ]
    }
   ],
   "source": [
    "def input_numeric(input_string):\n",
    "    variable = input(input_string)\n",
    "    invalid_input = True\n",
    "    while invalid_input:\n",
    "        try:\n",
    "            if float(variable)<0:\n",
    "                variable = input(f'Please make a positive numeric input. {input_string}')\n",
    "            else:\n",
    "                invalid_input=False\n",
    "        except:\n",
    "            variable = input(f'Please make a numeric input. {input_string}') \n",
    "    return variable\n",
    "\n",
    "def initialize_inventory(products):\n",
    "    \"\"\"\n",
    "    initialize_inventory that takes products as a parameter. \n",
    "    Inside the function, implement the code for initializing the inventory dictionary using a loop and user input.\n",
    "    \n",
    "    \"\"\"\n",
    "    inventory = {}\n",
    "    for product in products:\n",
    "        quantity = input_numeric(f'Number of {product} available: ')\n",
    "        inventory[product] = round(float(quantity))\n",
    "        #inventory.update({product:int(quantity)}) # alternative way to insert data in the dictionary\n",
    "        print(f'Product {product} has {round(float(quantity))} in stock')\n",
    "    return inventory\n",
    "\n",
    "initialize_inventory(['mug','plate'])\n",
    "\n",
    "def total_price(customer_orders):\n",
    "    \"\"\" For each product in customer_orders, prompt the user to enter the price of that product.\"\"\"\n",
    "    acum = 0\n",
    "    \n",
    "    for p in customer_orders:\n",
    "        valid_input = False\n",
    "        while not valid_input:\n",
    "            try:\n",
    "                price = input(f\"Enter price of {p}: \")\n",
    "                price = float(price)\n",
    "                if price > 0:\n",
    "                    acum += price\n",
    "                    valid_input = True \n",
    "                else:\n",
    "                    print(\"Price cannot be 0 or negative, enter integer or decimal greater than 0\")\n",
    "            except ValueError:\n",
    "                if not isinstance(price,float):\n",
    "                    print('Invalid input.Please Provide an integer or decimal')\n",
    "    return acum \n"
   ]
  }
 ],
 "metadata": {
  "kernelspec": {
   "display_name": "Python 3 (ipykernel)",
   "language": "python",
   "name": "python3"
  },
  "language_info": {
   "codemirror_mode": {
    "name": "ipython",
    "version": 3
   },
   "file_extension": ".py",
   "mimetype": "text/x-python",
   "name": "python",
   "nbconvert_exporter": "python",
   "pygments_lexer": "ipython3",
   "version": "3.11.5"
  }
 },
 "nbformat": 4,
 "nbformat_minor": 5
}
